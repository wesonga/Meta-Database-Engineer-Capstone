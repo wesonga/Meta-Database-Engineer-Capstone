{
 "cells": [
  {
   "cell_type": "code",
   "execution_count": 2,
   "id": "1222478f-4e67-4c91-8072-71676a332d3c",
   "metadata": {},
   "outputs": [
    {
     "name": "stdout",
     "output_type": "stream",
     "text": [
      "Note: you may need to restart the kernel to use updated packages.Requirement already satisfied: mysql-connector-python in c:\\users\\wesonga bob\\appdata\\local\\programs\\python\\python313\\lib\\site-packages (9.2.0)\n",
      "\n",
      "[('bookings',), ('customerdetails',), ('menuitems',), ('menus',), ('orderdeliverystatuses',), ('orders',), ('ordersview',), ('ordersview2',), ('ordersview3',), ('staffinformation',)]\n"
     ]
    },
    {
     "name": "stderr",
     "output_type": "stream",
     "text": [
      "\n",
      "[notice] A new release of pip is available: 24.3.1 -> 25.0.1\n",
      "[notice] To update, run: python.exe -m pip install --upgrade pip\n"
     ]
    }
   ],
   "source": [
    "%pip install mysql-connector-python\n",
    "import mysql.connector as connector\n",
    "\n",
    "# Establish the connection\n",
    "connection = connector.connect(user=\"place_your_username_here\", password=\"place_your_user_password_here\", database=\"littlelemondb\")\n",
    "\n",
    "# Create a cursor object\n",
    "cursor = connection.cursor()\n",
    "\n",
    "# Execute the SQL query\n",
    "show_tables_query = \"SHOW tables\"\n",
    "cursor.execute(show_tables_query)\n",
    "\n",
    "# Fetch the results\n",
    "results = cursor.fetchall()\n",
    "\n",
    "# Print the results\n",
    "print(results)\n",
    "\n",
    "# Close the cursor and connection\n",
    "cursor.close()\n",
    "connection.close()\n"
   ]
  },
  {
   "cell_type": "code",
   "execution_count": null,
   "id": "5fbf3c84-5e3d-4210-a3eb-8f102490a0cf",
   "metadata": {},
   "outputs": [
    {
     "name": "stdout",
     "output_type": "stream",
     "text": [
      "Name: John Doe Contact Details: customer1@email.com Total Cost: 171\n",
      "Name: Jane Doe Contact Details: customer2@email.com Total Cost: 174\n",
      "Name: Alice Contact Details: customer3@email.com Total Cost: 358\n",
      "Name: Bob Contact Details: customer4@email.com Total Cost: 265\n",
      "Name: David Contact Details: customer6@email.com Total Cost: 465\n",
      "Name: Emily Contact Details: customer7@email.com Total Cost: 65\n",
      "Name: Frank Contact Details: customer8@email.com Total Cost: 437\n",
      "Name: Grace Contact Details: customer9@email.com Total Cost: 484\n",
      "Name: Hannah Contact Details: customer10@email.com Total Cost: 111\n"
     ]
    }
   ],
   "source": [
    "import mysql.connector as connector\n",
    "\n",
    "# Establish the connection\n",
    "connection = connector.connect(user=\"place_your_username_here\", password=\"place_your_user_password_here\", database=\"littlelemondb\")\n",
    "\n",
    "# Create a cursor object\n",
    "cursor = connection.cursor()\n",
    "\n",
    "# SQL Query\n",
    "query = \"\"\"\n",
    "SELECT c.Name, c.Email, o.TotalCost\n",
    "FROM Orders AS o\n",
    "JOIN CustomerDetails AS c ON o.CustomerID = c.CustomerID\n",
    "WHERE o.TotalCost > 60;\n",
    "\"\"\"\n",
    "\n",
    "# Execute the query\n",
    "cursor.execute(query)\n",
    "\n",
    "# Fetch the results\n",
    "results = cursor.fetchall()\n",
    "\n",
    "# Print the results\n",
    "for result in results:\n",
    "    print(\"Name:\", result[0], \"Contact Details:\", result[1], \"Total Cost:\", result[2])\n",
    "\n",
    "# Close the cursor and connection\n",
    "cursor.close()\n",
    "connection.close()\n"
   ]
  }
 ],
 "metadata": {
  "kernelspec": {
   "display_name": "Python 3",
   "language": "python",
   "name": "python3"
  },
  "language_info": {
   "codemirror_mode": {
    "name": "ipython",
    "version": 3
   },
   "file_extension": ".py",
   "mimetype": "text/x-python",
   "name": "python",
   "nbconvert_exporter": "python",
   "pygments_lexer": "ipython3",
   "version": "3.13.2"
  }
 },
 "nbformat": 4,
 "nbformat_minor": 5
}
